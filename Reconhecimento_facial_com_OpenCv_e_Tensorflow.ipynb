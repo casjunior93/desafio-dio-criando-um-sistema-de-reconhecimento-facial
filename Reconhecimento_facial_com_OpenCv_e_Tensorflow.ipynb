{
  "nbformat": 4,
  "nbformat_minor": 0,
  "metadata": {
    "colab": {
      "provenance": [],
      "authorship_tag": "ABX9TyMvsGNxdiZgKliZRupVzc6I",
      "include_colab_link": true
    },
    "kernelspec": {
      "name": "python3",
      "display_name": "Python 3"
    },
    "language_info": {
      "name": "python"
    }
  },
  "cells": [
    {
      "cell_type": "markdown",
      "metadata": {
        "id": "view-in-github",
        "colab_type": "text"
      },
      "source": [
        "<a href=\"https://colab.research.google.com/github/casjunior93/desafio-dio-criando-um-sistema-de-reconhecimento-facial/blob/main/Reconhecimento_facial_com_OpenCv_e_Tensorflow.ipynb\" target=\"_parent\"><img src=\"https://colab.research.google.com/assets/colab-badge.svg\" alt=\"Open In Colab\"/></a>"
      ]
    },
    {
      "cell_type": "markdown",
      "source": [
        "# Bibliotecas"
      ],
      "metadata": {
        "id": "VpZKiatVxBAb"
      }
    },
    {
      "cell_type": "code",
      "execution_count": 1,
      "metadata": {
        "id": "UkVvtwbvwtvD"
      },
      "outputs": [],
      "source": [
        "from IPython.display import display, Javascript, Image\n",
        "from google.colab.output import eval_js\n",
        "from base64 import b64decode, b64encode\n",
        "import cv2\n",
        "import numpy as np\n",
        "import PIL\n",
        "import io\n",
        "import html\n",
        "import time\n",
        "from keras.models import load_model"
      ]
    },
    {
      "cell_type": "markdown",
      "source": [
        "# Funções auxiliares\n",
        "\n",
        "Abaixo estão algumas funções auxiliares para fazer a conversão entre diferentes tipos e formatos de dados de imagem."
      ],
      "metadata": {
        "id": "MCIoX4X-xstG"
      }
    },
    {
      "cell_type": "code",
      "source": [
        "# function to convert the JavaScript object into an OpenCV image\n",
        "def js_to_image(js_reply):\n",
        "  \"\"\"\n",
        "  Params:\n",
        "          js_reply: JavaScript object containing image from webcam\n",
        "  Returns:\n",
        "          img: OpenCV BGR image\n",
        "  \"\"\"\n",
        "  # decode base64 image\n",
        "  image_bytes = b64decode(js_reply.split(',')[1])\n",
        "  # convert bytes to numpy array\n",
        "  jpg_as_np = np.frombuffer(image_bytes, dtype=np.uint8)\n",
        "  # decode numpy array into OpenCV BGR image\n",
        "  img = cv2.imdecode(jpg_as_np, flags=1)\n",
        "\n",
        "  return img\n",
        "\n",
        "# function to convert OpenCV Rectangle bounding box image into base64 byte string to be overlayed on video stream\n",
        "def bbox_to_bytes(bbox_array):\n",
        "  \"\"\"\n",
        "  Params:\n",
        "          bbox_array: Numpy array (pixels) containing rectangle to overlay on video stream.\n",
        "  Returns:\n",
        "        bytes: Base64 image byte string\n",
        "  \"\"\"\n",
        "  # convert array into PIL image\n",
        "  bbox_PIL = PIL.Image.fromarray(bbox_array, 'RGBA')\n",
        "  iobuf = io.BytesIO()\n",
        "  # format bbox into png for return\n",
        "  bbox_PIL.save(iobuf, format='png')\n",
        "  # format return string\n",
        "  bbox_bytes = 'data:image/png;base64,{}'.format((str(b64encode(iobuf.getvalue()), 'utf-8')))\n",
        "\n",
        "  return bbox_bytes"
      ],
      "metadata": {
        "id": "sf1dScimxtc0"
      },
      "execution_count": 2,
      "outputs": []
    },
    {
      "cell_type": "markdown",
      "source": [
        "# Haar Cascade Classifier\n",
        "\n",
        "Para este tutorial, executaremos um algoritmo simples de detecção de objetos chamado Haar Cascade em nossas imagens e vídeos obtidos de nossa webcam. O OpenCV possui um modelo de detecção de face Haar Cascade pré-treinado."
      ],
      "metadata": {
        "id": "epNilk-yyB0l"
      }
    },
    {
      "cell_type": "code",
      "source": [
        "face_cascade = cv2.CascadeClassifier(cv2.samples.findFile(cv2.data.haarcascades + 'haarcascade_frontalface_default.xml'))"
      ],
      "metadata": {
        "id": "oS9QfMHsx2jr"
      },
      "execution_count": 3,
      "outputs": []
    },
    {
      "cell_type": "markdown",
      "source": [
        "# Treinamento do modelo para reconhecer a mim e ao meu filho\n",
        "\n",
        "Para fazer o treinamento, gerei um dataset de imagens da minha face e da face do meu filho usando o seguinte notebook: [clique aqui](https://github.com/casjunior93/desafio-dio-criando-um-sistema-de-reconhecimento-facial/blob/main/Criar_dataset_de_faces_com_OpenCv_e_webcam.ipynb).\n",
        "\n",
        "Em seguida, treinei um modelo utilizando o site [Teachable Machine](https://teachablemachine.withgoogle.com/train/image)."
      ],
      "metadata": {
        "id": "wzCpB7d7LFY3"
      }
    },
    {
      "cell_type": "code",
      "source": [
        "!wget https://github.com/casjunior93/desafio-dio-criando-um-sistema-de-reconhecimento-facial/raw/main/keras_model.h5"
      ],
      "metadata": {
        "colab": {
          "base_uri": "https://localhost:8080/"
        },
        "id": "5Sdv241gNaDI",
        "outputId": "cff2b93c-4143-4412-a72a-094a4f31effe"
      },
      "execution_count": 4,
      "outputs": [
        {
          "output_type": "stream",
          "name": "stdout",
          "text": [
            "--2023-04-22 13:53:06--  https://github.com/casjunior93/desafio-dio-criando-um-sistema-de-reconhecimento-facial/raw/main/keras_model.h5\n",
            "Resolving github.com (github.com)... 20.27.177.113\n",
            "Connecting to github.com (github.com)|20.27.177.113|:443... connected.\n",
            "HTTP request sent, awaiting response... 302 Found\n",
            "Location: https://raw.githubusercontent.com/casjunior93/desafio-dio-criando-um-sistema-de-reconhecimento-facial/main/keras_model.h5 [following]\n",
            "--2023-04-22 13:53:07--  https://raw.githubusercontent.com/casjunior93/desafio-dio-criando-um-sistema-de-reconhecimento-facial/main/keras_model.h5\n",
            "Resolving raw.githubusercontent.com (raw.githubusercontent.com)... 185.199.109.133, 185.199.108.133, 185.199.110.133, ...\n",
            "Connecting to raw.githubusercontent.com (raw.githubusercontent.com)|185.199.109.133|:443... connected.\n",
            "HTTP request sent, awaiting response... 200 OK\n",
            "Length: 2453912 (2.3M) [application/octet-stream]\n",
            "Saving to: ‘keras_model.h5’\n",
            "\n",
            "keras_model.h5      100%[===================>]   2.34M  --.-KB/s    in 0.1s    \n",
            "\n",
            "2023-04-22 13:53:08 (23.7 MB/s) - ‘keras_model.h5’ saved [2453912/2453912]\n",
            "\n"
          ]
        }
      ]
    },
    {
      "cell_type": "code",
      "source": [
        "!wget https://github.com/casjunior93/desafio-dio-criando-um-sistema-de-reconhecimento-facial/raw/main/labels.txt\n",
        "class_names = open(\"labels.txt\", \"r\").readlines()\n",
        "\n",
        "classes = ['Isaac', 'Carlos']"
      ],
      "metadata": {
        "colab": {
          "base_uri": "https://localhost:8080/"
        },
        "id": "7mOrq3v-VlPh",
        "outputId": "e543d276-5321-4eaf-aa2c-54309d682fb3"
      },
      "execution_count": 52,
      "outputs": [
        {
          "output_type": "stream",
          "name": "stdout",
          "text": [
            "--2023-04-22 14:29:58--  https://github.com/casjunior93/desafio-dio-criando-um-sistema-de-reconhecimento-facial/raw/main/labels.txt\n",
            "Resolving github.com (github.com)... 20.27.177.113\n",
            "Connecting to github.com (github.com)|20.27.177.113|:443... connected.\n",
            "HTTP request sent, awaiting response... 302 Found\n",
            "Location: https://raw.githubusercontent.com/casjunior93/desafio-dio-criando-um-sistema-de-reconhecimento-facial/main/labels.txt [following]\n",
            "--2023-04-22 14:29:59--  https://raw.githubusercontent.com/casjunior93/desafio-dio-criando-um-sistema-de-reconhecimento-facial/main/labels.txt\n",
            "Resolving raw.githubusercontent.com (raw.githubusercontent.com)... 185.199.109.133, 185.199.111.133, 185.199.108.133, ...\n",
            "Connecting to raw.githubusercontent.com (raw.githubusercontent.com)|185.199.109.133|:443... connected.\n",
            "HTTP request sent, awaiting response... 200 OK\n",
            "Length: 17 [text/plain]\n",
            "Saving to: ‘labels.txt.2’\n",
            "\n",
            "labels.txt.2        100%[===================>]      17  --.-KB/s    in 0s      \n",
            "\n",
            "2023-04-22 14:29:59 (634 KB/s) - ‘labels.txt.2’ saved [17/17]\n",
            "\n"
          ]
        }
      ]
    },
    {
      "cell_type": "markdown",
      "source": [
        "Importando o modelo do Keras:"
      ],
      "metadata": {
        "id": "KP3WT5QnNfpg"
      }
    },
    {
      "cell_type": "code",
      "source": [
        "model = load_model('keras_model.h5',compile=False)\n",
        "data = np.ndarray(shape=(1,224,224,3),dtype=np.float32)"
      ],
      "metadata": {
        "id": "ELyHFZXSNkVE"
      },
      "execution_count": 29,
      "outputs": []
    },
    {
      "cell_type": "markdown",
      "source": [
        "# Obtendo imagens da webcam"
      ],
      "metadata": {
        "id": "KfpO5dh3yV7p"
      }
    },
    {
      "cell_type": "code",
      "source": [
        "def take_photo(filename='photo.jpg', quality=0.8):\n",
        "  js = Javascript('''\n",
        "    async function takePhoto(quality) {\n",
        "      const div = document.createElement('div');\n",
        "      const capture = document.createElement('button');\n",
        "      capture.textContent = 'Capture';\n",
        "      div.appendChild(capture);\n",
        "\n",
        "      const video = document.createElement('video');\n",
        "      video.style.display = 'block';\n",
        "      const stream = await navigator.mediaDevices.getUserMedia({video: true});\n",
        "\n",
        "      document.body.appendChild(div);\n",
        "      div.appendChild(video);\n",
        "      video.srcObject = stream;\n",
        "      await video.play();\n",
        "\n",
        "      // Resize the output to fit the video element.\n",
        "      google.colab.output.setIframeHeight(document.documentElement.scrollHeight, true);\n",
        "\n",
        "      // Wait for Capture to be clicked.\n",
        "      await new Promise((resolve) => capture.onclick = resolve);\n",
        "\n",
        "      const canvas = document.createElement('canvas');\n",
        "      canvas.width = video.videoWidth;\n",
        "      canvas.height = video.videoHeight;\n",
        "      canvas.getContext('2d').drawImage(video, 0, 0);\n",
        "      stream.getVideoTracks()[0].stop();\n",
        "      div.remove();\n",
        "      return canvas.toDataURL('image/jpeg', quality);\n",
        "    }\n",
        "    ''')\n",
        "  display(js)\n",
        "\n",
        "  # get photo data\n",
        "  data = eval_js('takePhoto({})'.format(quality))\n",
        "  # get OpenCV format image\n",
        "  img = js_to_image(data) \n",
        "  # grayscale img\n",
        "  gray = cv2.cvtColor(img, cv2.COLOR_RGB2GRAY)\n",
        "  print(gray.shape)\n",
        "  # get face bounding box coordinates using Haar Cascade\n",
        "  faces = face_cascade.detectMultiScale(gray)\n",
        "  # draw face bounding box on image\n",
        "  for (x,y,w,h) in faces:\n",
        "      #Classificando a face\n",
        "      recorte = img[y:y +h,x:x+ w]\n",
        "\n",
        "      imgItem = cv2.resize(recorte, (224, 224), interpolation=cv2.INTER_AREA)\n",
        "      imgItemArray = np.asarray(imgItem, dtype=np.float32).reshape(1, 224, 224, 3)\n",
        "      imgItemNormalize = (imgItemArray / 127.5) - 1\n",
        "      prediction = model.predict(imgItemNormalize)\n",
        "      index = np.argmax(prediction)\n",
        "      class_name = classes[index]\n",
        "      percent = prediction[0][index]\n",
        "\n",
        "      #Imprimindo na imagem\n",
        "      img = cv2.rectangle(img,(x,y),(x+w,y+h),(255,255,255),2)\n",
        "      pred_resultado = str(class_name) + ' - ' + str(percent)\n",
        "      cv2.rectangle(img,(x,y+5),(x+h,y-20),(255,255,255),-1)\n",
        "      cv2.putText(img,pred_resultado.upper(),(x,y-5),cv2.FONT_HERSHEY_SIMPLEX,0.5,(0,0,0),2)\n",
        "  # save image\n",
        "  cv2.imwrite(filename, img)\n",
        "\n",
        "  return filename"
      ],
      "metadata": {
        "id": "Hli29txGyR7-"
      },
      "execution_count": 86,
      "outputs": []
    },
    {
      "cell_type": "code",
      "source": [
        "try:\n",
        "  filename = take_photo('photo.jpg')\n",
        "  print('Saved to {}'.format(filename))\n",
        "  \n",
        "  # Show the image which was just taken.\n",
        "  display(Image(filename))\n",
        "except Exception as err:\n",
        "  # Errors will be thrown if the user does not have a webcam or if they do not\n",
        "  # grant the page permission to access it.\n",
        "  print(str(err))"
      ],
      "metadata": {
        "colab": {
          "base_uri": "https://localhost:8080/",
          "height": 566
        },
        "id": "GGiDIoFxyqe-",
        "outputId": "476fddd2-a0c4-4fb7-947c-133cfc6c1160"
      },
      "execution_count": 94,
      "outputs": [
        {
          "output_type": "display_data",
          "data": {
            "text/plain": [
              "<IPython.core.display.Javascript object>"
            ],
            "application/javascript": [
              "\n",
              "    async function takePhoto(quality) {\n",
              "      const div = document.createElement('div');\n",
              "      const capture = document.createElement('button');\n",
              "      capture.textContent = 'Capture';\n",
              "      div.appendChild(capture);\n",
              "\n",
              "      const video = document.createElement('video');\n",
              "      video.style.display = 'block';\n",
              "      const stream = await navigator.mediaDevices.getUserMedia({video: true});\n",
              "\n",
              "      document.body.appendChild(div);\n",
              "      div.appendChild(video);\n",
              "      video.srcObject = stream;\n",
              "      await video.play();\n",
              "\n",
              "      // Resize the output to fit the video element.\n",
              "      google.colab.output.setIframeHeight(document.documentElement.scrollHeight, true);\n",
              "\n",
              "      // Wait for Capture to be clicked.\n",
              "      await new Promise((resolve) => capture.onclick = resolve);\n",
              "\n",
              "      const canvas = document.createElement('canvas');\n",
              "      canvas.width = video.videoWidth;\n",
              "      canvas.height = video.videoHeight;\n",
              "      canvas.getContext('2d').drawImage(video, 0, 0);\n",
              "      stream.getVideoTracks()[0].stop();\n",
              "      div.remove();\n",
              "      return canvas.toDataURL('image/jpeg', quality);\n",
              "    }\n",
              "    "
            ]
          },
          "metadata": {}
        },
        {
          "output_type": "stream",
          "name": "stdout",
          "text": [
            "(480, 640)\n",
            "1/1 [==============================] - 0s 39ms/step\n",
            "1/1 [==============================] - 0s 44ms/step\n",
            "Saved to photo.jpg\n"
          ]
        },
        {
          "output_type": "display_data",
          "data": {
            "image/jpeg": "[encoded data removed]",
            "text/plain": [
              "<IPython.core.display.Image object>"
            ]
          },
          "metadata": {}
        }
      ]
    }
  ]
}